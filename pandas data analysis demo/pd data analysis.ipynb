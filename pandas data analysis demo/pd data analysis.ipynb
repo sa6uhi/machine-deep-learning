{
 "cells": [
  {
   "cell_type": "markdown",
   "id": "5bbe6336-a19d-4029-9830-03016bb89a8f",
   "metadata": {},
   "source": [
    "Pandas\n",
    "\n",
    "Using Pandas calculate costs of failed trainings in 2023 for such categories of specialists:\n",
    "\n",
    "IT specialists\n",
    "\n",
    "BI Specialists\n",
    "\n",
    "Data specialists\n",
    "\n",
    "Network Engineers\n",
    "\n",
    "Software Engineers\n",
    "\n",
    "Database Administrator (DBA)\n"
   ]
  },
  {
   "cell_type": "code",
   "execution_count": 1,
   "id": "b2c7eea0-4b64-41a8-9a15-dabf95c81394",
   "metadata": {},
   "outputs": [],
   "source": [
    "import pandas as pd\n",
    "import numpy as np"
   ]
  },
  {
   "cell_type": "code",
   "execution_count": 2,
   "id": "09f94164-f682-4d2e-96af-77db1261943e",
   "metadata": {},
   "outputs": [],
   "source": [
    "df_tr_dev = pd.read_csv('data/Employee Dataset/training_and_development_data.csv')"
   ]
  },
  {
   "cell_type": "code",
   "execution_count": 3,
   "id": "68dfd53c-abdc-444b-bdd4-b2b5fe226429",
   "metadata": {},
   "outputs": [
    {
     "data": {
      "text/html": [
       "<div>\n",
       "<style scoped>\n",
       "    .dataframe tbody tr th:only-of-type {\n",
       "        vertical-align: middle;\n",
       "    }\n",
       "\n",
       "    .dataframe tbody tr th {\n",
       "        vertical-align: top;\n",
       "    }\n",
       "\n",
       "    .dataframe thead th {\n",
       "        text-align: right;\n",
       "    }\n",
       "</style>\n",
       "<table border=\"1\" class=\"dataframe\">\n",
       "  <thead>\n",
       "    <tr style=\"text-align: right;\">\n",
       "      <th></th>\n",
       "      <th>Employee ID</th>\n",
       "      <th>Training Date</th>\n",
       "      <th>Training Program Name</th>\n",
       "      <th>Training Type</th>\n",
       "      <th>Training Outcome</th>\n",
       "      <th>Location</th>\n",
       "      <th>Trainer</th>\n",
       "      <th>Training Duration(Days)</th>\n",
       "      <th>Training Cost</th>\n",
       "    </tr>\n",
       "  </thead>\n",
       "  <tbody>\n",
       "    <tr>\n",
       "      <th>0</th>\n",
       "      <td>1001</td>\n",
       "      <td>21-Sep-22</td>\n",
       "      <td>Customer Service</td>\n",
       "      <td>Internal</td>\n",
       "      <td>Failed</td>\n",
       "      <td>Port Greg</td>\n",
       "      <td>Amanda Daniels</td>\n",
       "      <td>4</td>\n",
       "      <td>510.83</td>\n",
       "    </tr>\n",
       "    <tr>\n",
       "      <th>1</th>\n",
       "      <td>1002</td>\n",
       "      <td>19-Jul-23</td>\n",
       "      <td>Leadership Development</td>\n",
       "      <td>Internal</td>\n",
       "      <td>Failed</td>\n",
       "      <td>Brandonview</td>\n",
       "      <td>Brittany Chambers</td>\n",
       "      <td>2</td>\n",
       "      <td>582.37</td>\n",
       "    </tr>\n",
       "    <tr>\n",
       "      <th>2</th>\n",
       "      <td>1003</td>\n",
       "      <td>24-Feb-23</td>\n",
       "      <td>Technical Skills</td>\n",
       "      <td>Internal</td>\n",
       "      <td>Incomplete</td>\n",
       "      <td>Port Briannahaven</td>\n",
       "      <td>Mark Roberson</td>\n",
       "      <td>4</td>\n",
       "      <td>777.06</td>\n",
       "    </tr>\n",
       "    <tr>\n",
       "      <th>3</th>\n",
       "      <td>1004</td>\n",
       "      <td>12-Jan-23</td>\n",
       "      <td>Customer Service</td>\n",
       "      <td>Internal</td>\n",
       "      <td>Completed</td>\n",
       "      <td>Knightborough</td>\n",
       "      <td>Richard Fisher</td>\n",
       "      <td>2</td>\n",
       "      <td>824.30</td>\n",
       "    </tr>\n",
       "    <tr>\n",
       "      <th>4</th>\n",
       "      <td>1005</td>\n",
       "      <td>12-May-23</td>\n",
       "      <td>Communication Skills</td>\n",
       "      <td>External</td>\n",
       "      <td>Passed</td>\n",
       "      <td>Bruceshire</td>\n",
       "      <td>Heather Shaffer</td>\n",
       "      <td>4</td>\n",
       "      <td>145.99</td>\n",
       "    </tr>\n",
       "  </tbody>\n",
       "</table>\n",
       "</div>"
      ],
      "text/plain": [
       "   Employee ID Training Date   Training Program Name Training Type  \\\n",
       "0         1001     21-Sep-22        Customer Service      Internal   \n",
       "1         1002     19-Jul-23  Leadership Development      Internal   \n",
       "2         1003     24-Feb-23        Technical Skills      Internal   \n",
       "3         1004     12-Jan-23        Customer Service      Internal   \n",
       "4         1005     12-May-23    Communication Skills      External   \n",
       "\n",
       "  Training Outcome           Location            Trainer  \\\n",
       "0           Failed          Port Greg     Amanda Daniels   \n",
       "1           Failed        Brandonview  Brittany Chambers   \n",
       "2       Incomplete  Port Briannahaven      Mark Roberson   \n",
       "3        Completed      Knightborough     Richard Fisher   \n",
       "4           Passed         Bruceshire    Heather Shaffer   \n",
       "\n",
       "   Training Duration(Days)  Training Cost  \n",
       "0                        4         510.83  \n",
       "1                        2         582.37  \n",
       "2                        4         777.06  \n",
       "3                        2         824.30  \n",
       "4                        4         145.99  "
      ]
     },
     "execution_count": 3,
     "metadata": {},
     "output_type": "execute_result"
    }
   ],
   "source": [
    "df_tr_dev.head()"
   ]
  },
  {
   "cell_type": "code",
   "execution_count": 4,
   "id": "9fad94bb-0cce-4a8f-9869-94f08d8f6423",
   "metadata": {},
   "outputs": [
    {
     "data": {
      "text/plain": [
       "Index(['Employee ID', 'Training Date', 'Training Program Name',\n",
       "       'Training Type', 'Training Outcome', 'Location', 'Trainer',\n",
       "       'Training Duration(Days)', 'Training Cost'],\n",
       "      dtype='object')"
      ]
     },
     "execution_count": 4,
     "metadata": {},
     "output_type": "execute_result"
    }
   ],
   "source": [
    "df_tr_dev.columns"
   ]
  },
  {
   "cell_type": "code",
   "execution_count": 5,
   "id": "42bca00e-fab9-4787-b753-23c9316785c2",
   "metadata": {},
   "outputs": [],
   "source": [
    "df_em_data = pd.read_csv('data/Employee Dataset/employee_data.csv')"
   ]
  },
  {
   "cell_type": "code",
   "execution_count": 6,
   "id": "f6bdc98a-6540-4ddf-a9b0-9a28a4e9085a",
   "metadata": {},
   "outputs": [
    {
     "data": {
      "text/html": [
       "<div>\n",
       "<style scoped>\n",
       "    .dataframe tbody tr th:only-of-type {\n",
       "        vertical-align: middle;\n",
       "    }\n",
       "\n",
       "    .dataframe tbody tr th {\n",
       "        vertical-align: top;\n",
       "    }\n",
       "\n",
       "    .dataframe thead th {\n",
       "        text-align: right;\n",
       "    }\n",
       "</style>\n",
       "<table border=\"1\" class=\"dataframe\">\n",
       "  <thead>\n",
       "    <tr style=\"text-align: right;\">\n",
       "      <th></th>\n",
       "      <th>EmpID</th>\n",
       "      <th>FirstName</th>\n",
       "      <th>LastName</th>\n",
       "      <th>StartDate</th>\n",
       "      <th>ExitDate</th>\n",
       "      <th>Title</th>\n",
       "      <th>Supervisor</th>\n",
       "      <th>ADEmail</th>\n",
       "      <th>BusinessUnit</th>\n",
       "      <th>EmployeeStatus</th>\n",
       "      <th>...</th>\n",
       "      <th>Division</th>\n",
       "      <th>DOB</th>\n",
       "      <th>State</th>\n",
       "      <th>JobFunctionDescription</th>\n",
       "      <th>GenderCode</th>\n",
       "      <th>LocationCode</th>\n",
       "      <th>RaceDesc</th>\n",
       "      <th>MaritalDesc</th>\n",
       "      <th>Performance Score</th>\n",
       "      <th>Current Employee Rating</th>\n",
       "    </tr>\n",
       "  </thead>\n",
       "  <tbody>\n",
       "    <tr>\n",
       "      <th>0</th>\n",
       "      <td>3427</td>\n",
       "      <td>Uriah</td>\n",
       "      <td>Bridges</td>\n",
       "      <td>20-Sep-19</td>\n",
       "      <td>NaN</td>\n",
       "      <td>Production Technician I</td>\n",
       "      <td>Peter Oneill</td>\n",
       "      <td>uriah.bridges@bilearner.com</td>\n",
       "      <td>CCDR</td>\n",
       "      <td>Active</td>\n",
       "      <td>...</td>\n",
       "      <td>Finance &amp; Accounting</td>\n",
       "      <td>07-10-1969</td>\n",
       "      <td>MA</td>\n",
       "      <td>Accounting</td>\n",
       "      <td>Female</td>\n",
       "      <td>34904</td>\n",
       "      <td>White</td>\n",
       "      <td>Widowed</td>\n",
       "      <td>Fully Meets</td>\n",
       "      <td>4</td>\n",
       "    </tr>\n",
       "    <tr>\n",
       "      <th>1</th>\n",
       "      <td>3428</td>\n",
       "      <td>Paula</td>\n",
       "      <td>Small</td>\n",
       "      <td>11-Feb-23</td>\n",
       "      <td>NaN</td>\n",
       "      <td>Production Technician I</td>\n",
       "      <td>Renee Mccormick</td>\n",
       "      <td>paula.small@bilearner.com</td>\n",
       "      <td>EW</td>\n",
       "      <td>Active</td>\n",
       "      <td>...</td>\n",
       "      <td>Aerial</td>\n",
       "      <td>30-08-1965</td>\n",
       "      <td>MA</td>\n",
       "      <td>Labor</td>\n",
       "      <td>Male</td>\n",
       "      <td>6593</td>\n",
       "      <td>Hispanic</td>\n",
       "      <td>Widowed</td>\n",
       "      <td>Fully Meets</td>\n",
       "      <td>3</td>\n",
       "    </tr>\n",
       "    <tr>\n",
       "      <th>2</th>\n",
       "      <td>3429</td>\n",
       "      <td>Edward</td>\n",
       "      <td>Buck</td>\n",
       "      <td>10-Dec-18</td>\n",
       "      <td>NaN</td>\n",
       "      <td>Area Sales Manager</td>\n",
       "      <td>Crystal Walker</td>\n",
       "      <td>edward.buck@bilearner.com</td>\n",
       "      <td>PL</td>\n",
       "      <td>Active</td>\n",
       "      <td>...</td>\n",
       "      <td>General - Sga</td>\n",
       "      <td>06-10-1991</td>\n",
       "      <td>MA</td>\n",
       "      <td>Assistant</td>\n",
       "      <td>Male</td>\n",
       "      <td>2330</td>\n",
       "      <td>Hispanic</td>\n",
       "      <td>Widowed</td>\n",
       "      <td>Fully Meets</td>\n",
       "      <td>4</td>\n",
       "    </tr>\n",
       "  </tbody>\n",
       "</table>\n",
       "<p>3 rows × 26 columns</p>\n",
       "</div>"
      ],
      "text/plain": [
       "   EmpID FirstName LastName  StartDate ExitDate                    Title  \\\n",
       "0   3427     Uriah  Bridges  20-Sep-19      NaN  Production Technician I   \n",
       "1   3428     Paula    Small  11-Feb-23      NaN  Production Technician I   \n",
       "2   3429    Edward     Buck  10-Dec-18      NaN       Area Sales Manager   \n",
       "\n",
       "        Supervisor                      ADEmail BusinessUnit EmployeeStatus  \\\n",
       "0     Peter Oneill  uriah.bridges@bilearner.com         CCDR         Active   \n",
       "1  Renee Mccormick    paula.small@bilearner.com           EW         Active   \n",
       "2   Crystal Walker    edward.buck@bilearner.com           PL         Active   \n",
       "\n",
       "   ...              Division         DOB State JobFunctionDescription  \\\n",
       "0  ...  Finance & Accounting  07-10-1969    MA             Accounting   \n",
       "1  ...                Aerial  30-08-1965    MA                  Labor   \n",
       "2  ...         General - Sga  06-10-1991    MA              Assistant   \n",
       "\n",
       "  GenderCode LocationCode  RaceDesc MaritalDesc Performance Score  \\\n",
       "0     Female        34904     White     Widowed       Fully Meets   \n",
       "1       Male         6593  Hispanic     Widowed       Fully Meets   \n",
       "2       Male         2330  Hispanic     Widowed       Fully Meets   \n",
       "\n",
       "  Current Employee Rating  \n",
       "0                       4  \n",
       "1                       3  \n",
       "2                       4  \n",
       "\n",
       "[3 rows x 26 columns]"
      ]
     },
     "execution_count": 6,
     "metadata": {},
     "output_type": "execute_result"
    }
   ],
   "source": [
    "df_em_data.head(3)"
   ]
  },
  {
   "cell_type": "code",
   "execution_count": 7,
   "id": "99ad9c56-3b96-453b-96b2-a5d4dde1834e",
   "metadata": {},
   "outputs": [
    {
     "data": {
      "text/plain": [
       "Index(['EmpID', 'FirstName', 'LastName', 'StartDate', 'ExitDate', 'Title',\n",
       "       'Supervisor', 'ADEmail', 'BusinessUnit', 'EmployeeStatus',\n",
       "       'EmployeeType', 'PayZone', 'EmployeeClassificationType',\n",
       "       'TerminationType', 'TerminationDescription', 'DepartmentType',\n",
       "       'Division', 'DOB', 'State', 'JobFunctionDescription', 'GenderCode',\n",
       "       'LocationCode', 'RaceDesc', 'MaritalDesc', 'Performance Score',\n",
       "       'Current Employee Rating'],\n",
       "      dtype='object')"
      ]
     },
     "execution_count": 7,
     "metadata": {},
     "output_type": "execute_result"
    }
   ],
   "source": [
    "df_em_data.columns"
   ]
  },
  {
   "cell_type": "markdown",
   "id": "8e7aa9dc-0afa-4980-b0ae-a7209d63df1f",
   "metadata": {},
   "source": [
    "## merging 2 dfs and getting needed columns from it"
   ]
  },
  {
   "cell_type": "code",
   "execution_count": 8,
   "id": "64ab4ac0-4d70-466c-b3ca-8db37fc88f71",
   "metadata": {
    "scrolled": true
   },
   "outputs": [],
   "source": [
    "df_merge = df_tr_dev.merge(right=df_em_data, left_on=['Employee ID'], right_on=['EmpID'], how='left')\n",
    "df_merge = df_merge[['Training Date', 'Training Outcome', 'Title', 'Training Cost']] # after that step i dont need other columns"
   ]
  },
  {
   "cell_type": "code",
   "execution_count": 9,
   "id": "1204d59d-ffed-4b47-99d3-a749266dd7ac",
   "metadata": {},
   "outputs": [
    {
     "data": {
      "text/html": [
       "<div>\n",
       "<style scoped>\n",
       "    .dataframe tbody tr th:only-of-type {\n",
       "        vertical-align: middle;\n",
       "    }\n",
       "\n",
       "    .dataframe tbody tr th {\n",
       "        vertical-align: top;\n",
       "    }\n",
       "\n",
       "    .dataframe thead th {\n",
       "        text-align: right;\n",
       "    }\n",
       "</style>\n",
       "<table border=\"1\" class=\"dataframe\">\n",
       "  <thead>\n",
       "    <tr style=\"text-align: right;\">\n",
       "      <th></th>\n",
       "      <th>Training Date</th>\n",
       "      <th>Training Outcome</th>\n",
       "      <th>Title</th>\n",
       "      <th>Training Cost</th>\n",
       "    </tr>\n",
       "  </thead>\n",
       "  <tbody>\n",
       "    <tr>\n",
       "      <th>0</th>\n",
       "      <td>21-Sep-22</td>\n",
       "      <td>Failed</td>\n",
       "      <td>Software Engineer</td>\n",
       "      <td>510.83</td>\n",
       "    </tr>\n",
       "    <tr>\n",
       "      <th>1</th>\n",
       "      <td>19-Jul-23</td>\n",
       "      <td>Failed</td>\n",
       "      <td>Software Engineer</td>\n",
       "      <td>582.37</td>\n",
       "    </tr>\n",
       "  </tbody>\n",
       "</table>\n",
       "</div>"
      ],
      "text/plain": [
       "  Training Date Training Outcome              Title  Training Cost\n",
       "0     21-Sep-22           Failed  Software Engineer         510.83\n",
       "1     19-Jul-23           Failed  Software Engineer         582.37"
      ]
     },
     "execution_count": 9,
     "metadata": {},
     "output_type": "execute_result"
    }
   ],
   "source": [
    "df_merge.head(2)"
   ]
  },
  {
   "cell_type": "markdown",
   "id": "c814a9b4-a268-4712-a023-da0aaa184f2f",
   "metadata": {},
   "source": [
    "### filtering for 2023"
   ]
  },
  {
   "cell_type": "code",
   "execution_count": 10,
   "id": "c589a646-060a-48b8-ae3f-5c4953cf9da8",
   "metadata": {},
   "outputs": [],
   "source": [
    "# df_merge[df_merge['Training Date'].str.contains(r'23$')]  THIS OR \n",
    "df_merge = df_merge[pd.to_datetime(df_merge['Training Date'], format='%d-%b-%y').dt.year == 2023]"
   ]
  },
  {
   "cell_type": "markdown",
   "id": "931c3064-3083-45aa-ba60-431dbcb20955",
   "metadata": {},
   "source": [
    "### filtering for failed"
   ]
  },
  {
   "cell_type": "code",
   "execution_count": 11,
   "id": "7ff62739-e9c1-406d-9f58-9503095148f1",
   "metadata": {},
   "outputs": [],
   "source": [
    "df_merge = df_merge[df_merge['Training Outcome'] == 'Failed']"
   ]
  },
  {
   "cell_type": "markdown",
   "id": "7da66afd-c85a-45b1-a248-42822751fc7d",
   "metadata": {},
   "source": [
    "### filtering for needed job titles"
   ]
  },
  {
   "cell_type": "code",
   "execution_count": 12,
   "id": "560ea07e-69f7-4dae-8598-629a209ecce3",
   "metadata": {},
   "outputs": [
    {
     "data": {
      "text/plain": [
       "array(['Software Engineer', 'Shared Services Manager',\n",
       "       'Production Technician I', 'Production Technician II',\n",
       "       'Production Manager', 'Sr. Accountant', 'Accountant I',\n",
       "       'Sr. Network Engineer', 'Software Engineering Manager',\n",
       "       'Senior BI Developer', 'Data Architect', 'BI Developer',\n",
       "       'Area Sales Manager', 'Sales Manager', 'CIO', 'BI Director',\n",
       "       'IT Manager - Infra', 'IT Support', 'IT Manager - Support',\n",
       "       'Director of Sales', 'Network Engineer', 'Data Analyst',\n",
       "       'Data Analyst ', 'President & CEO', 'Director of Operations',\n",
       "       'IT Manager - DB', 'Administrative Assistant',\n",
       "       'Enterprise Architect', 'Database Administrator'], dtype=object)"
      ]
     },
     "execution_count": 12,
     "metadata": {},
     "output_type": "execute_result"
    }
   ],
   "source": [
    "df_merge['Title'].unique()"
   ]
  },
  {
   "cell_type": "code",
   "execution_count": 13,
   "id": "c59089b3-037c-4941-987a-da7e78aa8a80",
   "metadata": {},
   "outputs": [],
   "source": [
    "category_map = {\n",
    "    'IT specialist': ['IT Support', 'IT Manager - Infra', 'IT Manager - Support', 'IT Manager - DB'],\n",
    "    'BI Specialist': ['BI Developer', 'Senior BI Developer', 'BI Director'],\n",
    "    'Data specialist': ['Data Analyst', 'Data Analyst ', 'Data Architect'], # one data analyst have space at end\n",
    "    'Network Engineer': ['Network Engineer', 'Sr. Network Engineer'],\n",
    "    'Software Engineer': ['Software Engineer', 'Software Engineering Manager'],\n",
    "    'Database Administrator (DBA)': ['Database Administrator']\n",
    "}\n",
    "\n",
    "df_merge['Title'] = df_merge['Title'].replace(\n",
    "    {title: category for category, titles in category_map.items() for title in titles}  # reverse mapping\n",
    ")"
   ]
  },
  {
   "cell_type": "code",
   "execution_count": 14,
   "id": "61d2e108-a492-40ef-9c27-5d4331315dd8",
   "metadata": {},
   "outputs": [
    {
     "data": {
      "text/plain": [
       "array(['Software Engineer', 'Network Engineer', 'BI Specialist',\n",
       "       'Data specialist', 'IT specialist', 'Database Administrator (DBA)'],\n",
       "      dtype=object)"
      ]
     },
     "execution_count": 14,
     "metadata": {},
     "output_type": "execute_result"
    }
   ],
   "source": [
    "valid_categories = [i for i in category_map.keys()]\n",
    "df_merge = df_merge[df_merge['Title'].isin(valid_categories)] # clearing other titles (not valid_categories titles)\n",
    "df_merge['Title'].unique()"
   ]
  },
  {
   "cell_type": "code",
   "execution_count": 15,
   "id": "8cf1cf3d-bbc2-4073-a22b-852b3663550d",
   "metadata": {},
   "outputs": [
    {
     "data": {
      "text/html": [
       "<div>\n",
       "<style scoped>\n",
       "    .dataframe tbody tr th:only-of-type {\n",
       "        vertical-align: middle;\n",
       "    }\n",
       "\n",
       "    .dataframe tbody tr th {\n",
       "        vertical-align: top;\n",
       "    }\n",
       "\n",
       "    .dataframe thead th {\n",
       "        text-align: right;\n",
       "    }\n",
       "</style>\n",
       "<table border=\"1\" class=\"dataframe\">\n",
       "  <thead>\n",
       "    <tr style=\"text-align: right;\">\n",
       "      <th></th>\n",
       "      <th>Training Date</th>\n",
       "      <th>Training Outcome</th>\n",
       "      <th>Title</th>\n",
       "      <th>Training Cost</th>\n",
       "    </tr>\n",
       "  </thead>\n",
       "  <tbody>\n",
       "    <tr>\n",
       "      <th>1</th>\n",
       "      <td>19-Jul-23</td>\n",
       "      <td>Failed</td>\n",
       "      <td>Software Engineer</td>\n",
       "      <td>582.37</td>\n",
       "    </tr>\n",
       "    <tr>\n",
       "      <th>5</th>\n",
       "      <td>08-May-23</td>\n",
       "      <td>Failed</td>\n",
       "      <td>Software Engineer</td>\n",
       "      <td>838.07</td>\n",
       "    </tr>\n",
       "    <tr>\n",
       "      <th>6</th>\n",
       "      <td>14-May-23</td>\n",
       "      <td>Failed</td>\n",
       "      <td>Software Engineer</td>\n",
       "      <td>667.32</td>\n",
       "    </tr>\n",
       "    <tr>\n",
       "      <th>11</th>\n",
       "      <td>28-Mar-23</td>\n",
       "      <td>Failed</td>\n",
       "      <td>Software Engineer</td>\n",
       "      <td>887.08</td>\n",
       "    </tr>\n",
       "    <tr>\n",
       "      <th>20</th>\n",
       "      <td>10-Mar-23</td>\n",
       "      <td>Failed</td>\n",
       "      <td>Software Engineer</td>\n",
       "      <td>647.16</td>\n",
       "    </tr>\n",
       "  </tbody>\n",
       "</table>\n",
       "</div>"
      ],
      "text/plain": [
       "   Training Date Training Outcome              Title  Training Cost\n",
       "1      19-Jul-23           Failed  Software Engineer         582.37\n",
       "5      08-May-23           Failed  Software Engineer         838.07\n",
       "6      14-May-23           Failed  Software Engineer         667.32\n",
       "11     28-Mar-23           Failed  Software Engineer         887.08\n",
       "20     10-Mar-23           Failed  Software Engineer         647.16"
      ]
     },
     "execution_count": 15,
     "metadata": {},
     "output_type": "execute_result"
    }
   ],
   "source": [
    "df_merge.head()"
   ]
  },
  {
   "cell_type": "markdown",
   "id": "0d69774e-b818-46c1-aa78-258e75d344d3",
   "metadata": {},
   "source": [
    "### Group by Title"
   ]
  },
  {
   "cell_type": "code",
   "execution_count": 19,
   "id": "2070f5c6-d67d-4f09-8478-335103270f2b",
   "metadata": {},
   "outputs": [],
   "source": [
    "df = df_merge.groupby(['Title']).sum(numeric_only=True).sort_values(by='Training Cost')"
   ]
  },
  {
   "cell_type": "code",
   "execution_count": 20,
   "id": "6fb56959-5c42-4a6a-86fd-2ef2bb77d6d2",
   "metadata": {},
   "outputs": [
    {
     "data": {
      "text/html": [
       "<div>\n",
       "<style scoped>\n",
       "    .dataframe tbody tr th:only-of-type {\n",
       "        vertical-align: middle;\n",
       "    }\n",
       "\n",
       "    .dataframe tbody tr th {\n",
       "        vertical-align: top;\n",
       "    }\n",
       "\n",
       "    .dataframe thead th {\n",
       "        text-align: right;\n",
       "    }\n",
       "</style>\n",
       "<table border=\"1\" class=\"dataframe\">\n",
       "  <thead>\n",
       "    <tr style=\"text-align: right;\">\n",
       "      <th></th>\n",
       "      <th>Training Cost</th>\n",
       "    </tr>\n",
       "    <tr>\n",
       "      <th>Title</th>\n",
       "      <th></th>\n",
       "    </tr>\n",
       "  </thead>\n",
       "  <tbody>\n",
       "    <tr>\n",
       "      <th>Database Administrator (DBA)</th>\n",
       "      <td>3136.72</td>\n",
       "    </tr>\n",
       "    <tr>\n",
       "      <th>Data specialist</th>\n",
       "      <td>5564.65</td>\n",
       "    </tr>\n",
       "    <tr>\n",
       "      <th>BI Specialist</th>\n",
       "      <td>6126.70</td>\n",
       "    </tr>\n",
       "    <tr>\n",
       "      <th>Software Engineer</th>\n",
       "      <td>9332.22</td>\n",
       "    </tr>\n",
       "    <tr>\n",
       "      <th>Network Engineer</th>\n",
       "      <td>12423.01</td>\n",
       "    </tr>\n",
       "    <tr>\n",
       "      <th>IT specialist</th>\n",
       "      <td>12433.52</td>\n",
       "    </tr>\n",
       "  </tbody>\n",
       "</table>\n",
       "</div>"
      ],
      "text/plain": [
       "                              Training Cost\n",
       "Title                                      \n",
       "Database Administrator (DBA)        3136.72\n",
       "Data specialist                     5564.65\n",
       "BI Specialist                       6126.70\n",
       "Software Engineer                   9332.22\n",
       "Network Engineer                   12423.01\n",
       "IT specialist                      12433.52"
      ]
     },
     "execution_count": 20,
     "metadata": {},
     "output_type": "execute_result"
    }
   ],
   "source": [
    "df"
   ]
  },
  {
   "cell_type": "markdown",
   "id": "40ba516d-1e3a-4cdf-ad39-9d701f48535a",
   "metadata": {},
   "source": [
    "### Plotting"
   ]
  },
  {
   "cell_type": "code",
   "execution_count": 31,
   "id": "37de4ea8-4d1f-40be-852a-aeabe1688241",
   "metadata": {},
   "outputs": [
    {
     "data": {
      "image/png": "[encoded data removed]",
      "text/plain": [
       "<Figure size 640x480 with 1 Axes>"
      ]
     },
     "metadata": {},
     "output_type": "display_data"
    }
   ],
   "source": [
    "import matplotlib.pyplot as plt\n",
    "\n",
    "plt.bar(df.index, df['Training Cost'])\n",
    "\n",
    "plt.ylabel('Training Cost')\n",
    "plt.title('Failed Training Cost by Specialist for 2023')\n",
    "\n",
    "plt.xticks(rotation=45, ha='right')\n",
    "plt.show()"
   ]
  }
 ],
 "metadata": {
  "kernelspec": {
   "display_name": "Python 3 (ipykernel)",
   "language": "python",
   "name": "python3"
  },
  "language_info": {
   "codemirror_mode": {
    "name": "ipython",
    "version": 3
   },
   "file_extension": ".py",
   "mimetype": "text/x-python",
   "name": "python",
   "nbconvert_exporter": "python",
   "pygments_lexer": "ipython3",
   "version": "3.12.8"
  }
 },
 "nbformat": 4,
 "nbformat_minor": 5
}
